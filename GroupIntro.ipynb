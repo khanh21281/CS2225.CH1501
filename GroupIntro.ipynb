{
  "nbformat": 4,
  "nbformat_minor": 0,
  "metadata": {
    "colab": {
      "name": "Untitled3.ipynb",
      "provenance": [],
      "collapsed_sections": [],
      "authorship_tag": "ABX9TyNRlaYkCM1H+FwePrRLP9ya",
      "include_colab_link": true
    },
    "kernelspec": {
      "name": "python3",
      "display_name": "Python 3"
    }
  },
  "cells": [
    {
      "cell_type": "markdown",
      "metadata": {
        "id": "view-in-github",
        "colab_type": "text"
      },
      "source": [
        "<a href=\"https://colab.research.google.com/github/khanh21281/CS2225.CH1501/blob/master/GroupIntro.ipynb\" target=\"_parent\"><img src=\"https://colab.research.google.com/assets/colab-badge.svg\" alt=\"Open In Colab\"/></a>"
      ]
    },
    {
      "cell_type": "code",
      "metadata": {
        "id": "hHtvdby5ZTq-",
        "colab_type": "code",
        "colab": {}
      },
      "source": [
        ""
      ],
      "execution_count": null,
      "outputs": []
    },
    {
      "cell_type": "markdown",
      "metadata": {
        "id": "7BoNn7aydhgF",
        "colab_type": "text"
      },
      "source": [
        "Các thành viên"
      ]
    },
    {
      "cell_type": "markdown",
      "metadata": {
        "id": "3uEdtNbei2i5",
        "colab_type": "text"
      },
      "source": [
        "Đề tài :\"Kiểm soát việc tuân thủ đeo khẩu trang của nhân viên thông qua đọc hình ảnh video từ các camera quan sát hiện có tại công ty\"\n",
        "Các Thành viên:\n",
        "Nguyễn Hồ Khánh  (nhóm trưởng)\n",
        "Nguyễn Võ Tấn Đạt\n",
        "Châu Minh Hòa\n",
        "Mô tả ứng dụng:\n",
        "Dùng camera để nhận biết đối tượng có mang khẩu trang hay không.\n",
        "Input: hình ảnh video từ camera theo thời gian thực.\n",
        "Output: Hình ảnh có người không mang khẩu trang gửi đến cấp quản lý thông qua Mail/ OA Zalo.\n",
        "Công cụ, kiến thức:\n",
        "Sử dụng Google Colab, Spyder.\n",
        "Ngôn ngữ lập trình: python\n",
        "Trích xuất dữ liệu video từ camera.\n",
        "Gửi tin nhắn đến OA Zalo qua Zalo Social API, Server Mail\n",
        "Nội dung và kế hoạch:\n",
        "Tìm dataset hình ảnh, chia làm 2 tập có gắn nhãn có mang và không mang khẩu trang.\n",
        "Sử dụng một số thư viện python như: numpy, keras, cv2…\n",
        "Train 2 dataset để tìm model có độ chính xác cao nhất.\n",
        "Cải thiện độ chính xác của model\n"
      ]
    }
  ]
}